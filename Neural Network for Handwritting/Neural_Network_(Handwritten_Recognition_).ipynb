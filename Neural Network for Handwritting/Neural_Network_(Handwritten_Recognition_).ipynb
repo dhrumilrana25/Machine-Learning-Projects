{
  "nbformat": 4,
  "nbformat_minor": 0,
  "metadata": {
    "colab": {
      "provenance": [],
      "toc_visible": true
    },
    "kernelspec": {
      "name": "python3",
      "display_name": "Python 3"
    },
    "language_info": {
      "name": "python"
    }
  },
  "cells": [
    {
      "cell_type": "markdown",
      "source": [
        "# ***A neural network designed for handwriting recognition uses deep learning to analyze and interpret handwritten text, converting it into digital form accurately and efficiently!!***"
      ],
      "metadata": {
        "id": "NPUnuVwJZ42w"
      }
    },
    {
      "cell_type": "markdown",
      "source": [
        "Step 1: Importing all necessary libraries for our Project"
      ],
      "metadata": {
        "id": "cw_aa3zBb0ko"
      }
    },
    {
      "cell_type": "code",
      "execution_count": null,
      "metadata": {
        "id": "XOAErCZAIlxp"
      },
      "outputs": [],
      "source": [
        "from sklearn.datasets import fetch_openml\n",
        "import matplotlib\n",
        "import matplotlib.pyplot as plt\n",
        "import numpy as np\n",
        "from sklearn.linear_model import LogisticRegression\n",
        "from sklearn.model_selection import cross_val_score\n",
        "\n",
        "from warnings import filterwarnings\n",
        "filterwarnings(action='ignore')"
      ]
    },
    {
      "cell_type": "markdown",
      "source": [
        "Step 2: Now we have to load the Dataset into the Notebook"
      ],
      "metadata": {
        "id": "BDjG9yrbcY7Q"
      }
    },
    {
      "cell_type": "code",
      "source": [
        "mnist = fetch_openml('mnist_784')"
      ],
      "metadata": {
        "id": "Nel05fSdcYeX"
      },
      "execution_count": null,
      "outputs": []
    },
    {
      "cell_type": "markdown",
      "source": [
        "Step 3: Create array variables x and y. Store in them the data and the targets respectively\n",
        " of the mnist As we discussed above"
      ],
      "metadata": {
        "id": "McSYQCyDh8e1"
      }
    },
    {
      "cell_type": "code",
      "source": [
        "x, y = mnist['data'], mnist['target']"
      ],
      "metadata": {
        "id": "tp_gObrgh2bJ"
      },
      "execution_count": null,
      "outputs": []
    },
    {
      "cell_type": "markdown",
      "source": [
        "Step 4: Reshaping the Dataset and plotting the data with MatPlotLib"
      ],
      "metadata": {
        "id": "ngLeYYTLinwp"
      }
    },
    {
      "cell_type": "code",
      "source": [
        "x.shape"
      ],
      "metadata": {
        "colab": {
          "base_uri": "https://localhost:8080/"
        },
        "id": "JkZ90PXAixCt",
        "outputId": "42ab5731-1f60-4781-956a-199b6108704a"
      },
      "execution_count": null,
      "outputs": [
        {
          "output_type": "execute_result",
          "data": {
            "text/plain": [
              "(70000, 784)"
            ]
          },
          "metadata": {},
          "execution_count": 83
        }
      ]
    },
    {
      "cell_type": "code",
      "source": [
        "y.shape"
      ],
      "metadata": {
        "colab": {
          "base_uri": "https://localhost:8080/"
        },
        "id": "uHmHNsqHiyeY",
        "outputId": "c6d7dadc-8848-4876-e555-ac042bcfd2b5"
      },
      "execution_count": null,
      "outputs": [
        {
          "output_type": "execute_result",
          "data": {
            "text/plain": [
              "(70000,)"
            ]
          },
          "metadata": {},
          "execution_count": 84
        }
      ]
    },
    {
      "cell_type": "code",
      "source": [
        "some_digit = x.to_numpy()[36004]\n",
        "some_digit_image = some_digit.reshape(28, 28)"
      ],
      "metadata": {
        "id": "LibTsJbY8fzb"
      },
      "execution_count": null,
      "outputs": []
    },
    {
      "cell_type": "code",
      "source": [
        "plt.imshow(some_digit_image, cmap=matplotlib.cm.binary,\n",
        "           interpolation='nearest')\n",
        "#If you want to remove axis plt.axis(\"off\")\n",
        "plt.show()"
      ],
      "metadata": {
        "colab": {
          "base_uri": "https://localhost:8080/",
          "height": 430
        },
        "id": "qmAa8R4t8iCY",
        "outputId": "6aa64fa1-ad85-4243-dbeb-2a710ddf365f"
      },
      "execution_count": null,
      "outputs": [
        {
          "output_type": "display_data",
          "data": {
            "text/plain": [
              "<Figure size 640x480 with 1 Axes>"
            ],
            "image/png": "[encoded data removed]"
          },
          "metadata": {}
        }
      ]
    },
    {
      "cell_type": "code",
      "source": [
        "some_digit = x.to_numpy()[36004]\n",
        "some_digit_image = some_digit.reshape(28, 28)"
      ],
      "metadata": {
        "id": "tvr236L0jOxw"
      },
      "execution_count": null,
      "outputs": []
    },
    {
      "cell_type": "code",
      "source": [
        "plt.imshow(some_digit_image, cmap=matplotlib.cm.binary,\n",
        "           interpolation='nearest')\n",
        "#If you want to remove axis plt.axis(\"off\")\n",
        "plt.show()"
      ],
      "metadata": {
        "colab": {
          "base_uri": "https://localhost:8080/",
          "height": 430
        },
        "id": "N7EWXeMkjB9o",
        "outputId": "cf0fe5d9-8eb6-4c53-b572-1bb507f6b215"
      },
      "execution_count": null,
      "outputs": [
        {
          "output_type": "display_data",
          "data": {
            "text/plain": [
              "<Figure size 640x480 with 1 Axes>"
            ],
            "image/png": "[encoded data removed]"
          },
          "metadata": {}
        }
      ]
    },
    {
      "cell_type": "markdown",
      "source": [
        "Step 5: In mnist Dataset, The first 60000 are training data, and the last 10000 are testing data. Create two array variables x_train and x_test and store in them"
      ],
      "metadata": {
        "id": "_PDDz0uWkh1B"
      }
    },
    {
      "cell_type": "code",
      "source": [
        "x_train, x_test = x[:60000], x[6000:70000]\n",
        "y_train, y_test = y[:60000], y[6000:70000]"
      ],
      "metadata": {
        "id": "_9KyC4PWkqgZ"
      },
      "execution_count": null,
      "outputs": []
    },
    {
      "cell_type": "code",
      "source": [
        "#We have to shuffle all the digits so that algorithm understands all random training set\n",
        "shuffle_index = np.random.permutation(60000)\n",
        "x_train, y_train = x_train.iloc[shuffle_index], y_train.iloc[shuffle_index]"
      ],
      "metadata": {
        "id": "vHEy5ZrvlNZa"
      },
      "execution_count": null,
      "outputs": []
    },
    {
      "cell_type": "code",
      "source": [
        "#To detect wheather a number is two (2) digit number of not\n",
        "y_train = y_train.astype(np.int8)\n",
        "y_test = y_test.astype(np.int8)\n",
        "y_train_2 = (y_train == 2)\n",
        "y_test_2 = (y_test == 2)"
      ],
      "metadata": {
        "id": "LRbaCNdSyORS"
      },
      "execution_count": null,
      "outputs": []
    },
    {
      "cell_type": "code",
      "source": [
        "y_test"
      ],
      "metadata": {
        "colab": {
          "base_uri": "https://localhost:8080/"
        },
        "id": "gU8ITr4M8t9q",
        "outputId": "faa86f8b-4ad8-4294-b610-9af8c8d2258c"
      },
      "execution_count": null,
      "outputs": [
        {
          "output_type": "execute_result",
          "data": {
            "text/plain": [
              "6000     6\n",
              "6001     0\n",
              "6002     1\n",
              "6003     1\n",
              "6004     5\n",
              "        ..\n",
              "69995    2\n",
              "69996    3\n",
              "69997    4\n",
              "69998    5\n",
              "69999    6\n",
              "Name: class, Length: 64000, dtype: int8"
            ]
          },
          "metadata": {},
          "execution_count": 114
        }
      ]
    },
    {
      "cell_type": "code",
      "source": [
        "y_test_2"
      ],
      "metadata": {
        "colab": {
          "base_uri": "https://localhost:8080/"
        },
        "id": "6vmJ3p6g8uBB",
        "outputId": "bbfeed79-d9c2-4c53-d9e3-24ae5009ca8a"
      },
      "execution_count": null,
      "outputs": [
        {
          "output_type": "execute_result",
          "data": {
            "text/plain": [
              "6000     False\n",
              "6001     False\n",
              "6002     False\n",
              "6003     False\n",
              "6004     False\n",
              "         ...  \n",
              "69995     True\n",
              "69996    False\n",
              "69997    False\n",
              "69998    False\n",
              "69999    False\n",
              "Name: class, Length: 64000, dtype: bool"
            ]
          },
          "metadata": {},
          "execution_count": 115
        }
      ]
    },
    {
      "cell_type": "code",
      "source": [
        "y_train"
      ],
      "metadata": {
        "colab": {
          "base_uri": "https://localhost:8080/"
        },
        "id": "yhIkoHIL4tJk",
        "outputId": "f31de5a1-8c7c-4733-f93f-3ddd9ccd633b"
      },
      "execution_count": null,
      "outputs": [
        {
          "output_type": "execute_result",
          "data": {
            "text/plain": [
              "3333     2\n",
              "12851    6\n",
              "41298    4\n",
              "56670    7\n",
              "58758    3\n",
              "        ..\n",
              "13903    1\n",
              "5510     3\n",
              "47347    4\n",
              "31275    9\n",
              "27236    8\n",
              "Name: class, Length: 60000, dtype: int8"
            ]
          },
          "metadata": {},
          "execution_count": 112
        }
      ]
    },
    {
      "cell_type": "code",
      "source": [
        "y_train_2"
      ],
      "metadata": {
        "colab": {
          "base_uri": "https://localhost:8080/"
        },
        "id": "I7nzghzO44kN",
        "outputId": "680eabfe-fc3b-48b6-c289-780077eb86bf"
      },
      "execution_count": null,
      "outputs": [
        {
          "output_type": "execute_result",
          "data": {
            "text/plain": [
              "3333      True\n",
              "12851    False\n",
              "41298    False\n",
              "56670    False\n",
              "58758    False\n",
              "         ...  \n",
              "13903    False\n",
              "5510     False\n",
              "47347    False\n",
              "31275    False\n",
              "27236    False\n",
              "Name: class, Length: 60000, dtype: bool"
            ]
          },
          "metadata": {},
          "execution_count": 113
        }
      ]
    },
    {
      "cell_type": "markdown",
      "source": [
        "# **MODEL: LOGISTIC REGRESSION**"
      ],
      "metadata": {
        "id": "d-wFu_4_02kk"
      }
    },
    {
      "cell_type": "code",
      "source": [
        "clf = LogisticRegression(tol=0.1)"
      ],
      "metadata": {
        "id": "h1L9EoEf2XXk"
      },
      "execution_count": null,
      "outputs": []
    },
    {
      "cell_type": "code",
      "source": [
        "clf.fit(x_train, y_train_2)"
      ],
      "metadata": {
        "colab": {
          "base_uri": "https://localhost:8080/",
          "height": 74
        },
        "id": "iZsQ1j5O3u7O",
        "outputId": "6af2260d-fd67-42e9-c67e-13c8fa4d5ec9"
      },
      "execution_count": null,
      "outputs": [
        {
          "output_type": "execute_result",
          "data": {
            "text/plain": [
              "LogisticRegression(tol=0.1)"
            ],
            "text/html": [
              "<style>#sk-container-id-2 {color: black;background-color: white;}#sk-container-id-2 pre{padding: 0;}#sk-container-id-2 div.sk-toggleable {background-color: white;}#sk-container-id-2 label.sk-toggleable__label {cursor: pointer;display: block;width: 100%;margin-bottom: 0;padding: 0.3em;box-sizing: border-box;text-align: center;}#sk-container-id-2 label.sk-toggleable__label-arrow:before {content: \"▸\";float: left;margin-right: 0.25em;color: #696969;}#sk-container-id-2 label.sk-toggleable__label-arrow:hover:before {color: black;}#sk-container-id-2 div.sk-estimator:hover label.sk-toggleable__label-arrow:before {color: black;}#sk-container-id-2 div.sk-toggleable__content {max-height: 0;max-width: 0;overflow: hidden;text-align: left;background-color: #f0f8ff;}#sk-container-id-2 div.sk-toggleable__content pre {margin: 0.2em;color: black;border-radius: 0.25em;background-color: #f0f8ff;}#sk-container-id-2 input.sk-toggleable__control:checked~div.sk-toggleable__content {max-height: 200px;max-width: 100%;overflow: auto;}#sk-container-id-2 input.sk-toggleable__control:checked~label.sk-toggleable__label-arrow:before {content: \"▾\";}#sk-container-id-2 div.sk-estimator input.sk-toggleable__control:checked~label.sk-toggleable__label {background-color: #d4ebff;}#sk-container-id-2 div.sk-label input.sk-toggleable__control:checked~label.sk-toggleable__label {background-color: #d4ebff;}#sk-container-id-2 input.sk-hidden--visually {border: 0;clip: rect(1px 1px 1px 1px);clip: rect(1px, 1px, 1px, 1px);height: 1px;margin: -1px;overflow: hidden;padding: 0;position: absolute;width: 1px;}#sk-container-id-2 div.sk-estimator {font-family: monospace;background-color: #f0f8ff;border: 1px dotted black;border-radius: 0.25em;box-sizing: border-box;margin-bottom: 0.5em;}#sk-container-id-2 div.sk-estimator:hover {background-color: #d4ebff;}#sk-container-id-2 div.sk-parallel-item::after {content: \"\";width: 100%;border-bottom: 1px solid gray;flex-grow: 1;}#sk-container-id-2 div.sk-label:hover label.sk-toggleable__label {background-color: #d4ebff;}#sk-container-id-2 div.sk-serial::before {content: \"\";position: absolute;border-left: 1px solid gray;box-sizing: border-box;top: 0;bottom: 0;left: 50%;z-index: 0;}#sk-container-id-2 div.sk-serial {display: flex;flex-direction: column;align-items: center;background-color: white;padding-right: 0.2em;padding-left: 0.2em;position: relative;}#sk-container-id-2 div.sk-item {position: relative;z-index: 1;}#sk-container-id-2 div.sk-parallel {display: flex;align-items: stretch;justify-content: center;background-color: white;position: relative;}#sk-container-id-2 div.sk-item::before, #sk-container-id-2 div.sk-parallel-item::before {content: \"\";position: absolute;border-left: 1px solid gray;box-sizing: border-box;top: 0;bottom: 0;left: 50%;z-index: -1;}#sk-container-id-2 div.sk-parallel-item {display: flex;flex-direction: column;z-index: 1;position: relative;background-color: white;}#sk-container-id-2 div.sk-parallel-item:first-child::after {align-self: flex-end;width: 50%;}#sk-container-id-2 div.sk-parallel-item:last-child::after {align-self: flex-start;width: 50%;}#sk-container-id-2 div.sk-parallel-item:only-child::after {width: 0;}#sk-container-id-2 div.sk-dashed-wrapped {border: 1px dashed gray;margin: 0 0.4em 0.5em 0.4em;box-sizing: border-box;padding-bottom: 0.4em;background-color: white;}#sk-container-id-2 div.sk-label label {font-family: monospace;font-weight: bold;display: inline-block;line-height: 1.2em;}#sk-container-id-2 div.sk-label-container {text-align: center;}#sk-container-id-2 div.sk-container {/* jupyter's `normalize.less` sets `[hidden] { display: none; }` but bootstrap.min.css set `[hidden] { display: none !important; }` so we also need the `!important` here to be able to override the default hidden behavior on the sphinx rendered scikit-learn.org. See: https://github.com/scikit-learn/scikit-learn/issues/21755 */display: inline-block !important;position: relative;}#sk-container-id-2 div.sk-text-repr-fallback {display: none;}</style><div id=\"sk-container-id-2\" class=\"sk-top-container\"><div class=\"sk-text-repr-fallback\"><pre>LogisticRegression(tol=0.1)</pre><b>In a Jupyter environment, please rerun this cell to show the HTML representation or trust the notebook. <br />On GitHub, the HTML representation is unable to render, please try loading this page with nbviewer.org.</b></div><div class=\"sk-container\" hidden><div class=\"sk-item\"><div class=\"sk-estimator sk-toggleable\"><input class=\"sk-toggleable__control sk-hidden--visually\" id=\"sk-estimator-id-2\" type=\"checkbox\" checked><label for=\"sk-estimator-id-2\" class=\"sk-toggleable__label sk-toggleable__label-arrow\">LogisticRegression</label><div class=\"sk-toggleable__content\"><pre>LogisticRegression(tol=0.1)</pre></div></div></div></div></div>"
            ]
          },
          "metadata": {},
          "execution_count": 118
        }
      ]
    },
    {
      "cell_type": "code",
      "source": [
        "example = clf.predict([some_digit])\n",
        "print(example)"
      ],
      "metadata": {
        "colab": {
          "base_uri": "https://localhost:8080/"
        },
        "id": "6KR8uEPF5iif",
        "outputId": "a3d0104e-6811-451c-e6f6-1f597a99aeab"
      },
      "execution_count": null,
      "outputs": [
        {
          "output_type": "stream",
          "name": "stdout",
          "text": [
            "[False]\n"
          ]
        }
      ]
    },
    {
      "cell_type": "markdown",
      "source": [
        "Step 6: Cross Validation of LR MODEL which increases the efficiency of the model"
      ],
      "metadata": {
        "id": "T2d9ZrM36cIv"
      }
    },
    {
      "cell_type": "code",
      "source": [
        "a = cross_val_score(clf, x_train, y_train_2, cv=3, scoring=\"accuracy\")\n",
        "print(a.mean()*100)"
      ],
      "metadata": {
        "colab": {
          "base_uri": "https://localhost:8080/"
        },
        "id": "YJA8IE0r6cSS",
        "outputId": "95cfa707-e6b5-4544-bf82-9e1155f9ebfe"
      },
      "execution_count": null,
      "outputs": [
        {
          "output_type": "stream",
          "name": "stdout",
          "text": [
            "97.845\n"
          ]
        }
      ]
    }
  ]
}